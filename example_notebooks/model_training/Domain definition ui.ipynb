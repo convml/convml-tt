{
 "cells": [
  {
   "cell_type": "code",
   "execution_count": 63,
   "metadata": {
    "scrolled": false
   },
   "outputs": [
    {
     "name": "stdout",
     "output_type": "stream",
     "text": [
      "2019-07-03\n"
     ]
    },
    {
     "data": {
      "application/vnd.jupyter.widget-view+json": {
       "model_id": "d0842c51de544885877a0098805bf342",
       "version_major": 2,
       "version_minor": 0
      },
      "text/plain": [
       "Map(basemap={'url': 'https://{s}.tile.openstreetmap.org/{z}/{x}/{y}.png', 'max_zoom': 19, 'attribution': 'Map …"
      ]
     },
     "metadata": {},
     "output_type": "display_data"
    }
   ],
   "source": [
    "from ipyleaflet import Map, basemaps, basemap_to_tiles, Marker, Polygon, WidgetControl\n",
    "from ipywidgets import IntSlider, ColorPicker, Button, link\n",
    "\n",
    "import datetime\n",
    "\n",
    "from functools import partial\n",
    "\n",
    "t_str = datetime.datetime.now().strftime(\"%Y-%m-%d\")\n",
    "print(t_str)\n",
    "\n",
    "m = Map(\n",
    "    layers=(basemap_to_tiles(basemaps.NASAGIBS.ModisTerraTrueColorCR, t_str),),\n",
    "    center=(52.204793, 360.121558),\n",
    "    zoom=2,\n",
    ")\n",
    "\n",
    "domain_coords = []\n",
    "polygon = None\n",
    "\n",
    "\n",
    "def _update_domain_render():\n",
    "    global polygon\n",
    "    if polygon is not None:\n",
    "        m.remove_layer(polygon)\n",
    "\n",
    "    if len(domain_coords) > 1:\n",
    "        polygon = Polygon(locations=domain_coords, color=\"green\", fill_color=\"green\")\n",
    "        m.add_layer(polygon)\n",
    "    else:\n",
    "        polygon = None\n",
    "\n",
    "\n",
    "def handle_move(marker, location, **kwargs):\n",
    "    old_loc = marker.location\n",
    "    new_loc = location\n",
    "    idx = domain_coords.index(old_loc)\n",
    "    domain_coords[idx] = new_loc\n",
    "    _update_domain_render()\n",
    "\n",
    "\n",
    "#    print(old_loc, location, marker.location)\n",
    "\n",
    "marker_locs = {}\n",
    "\n",
    "\n",
    "def handle_click(**kwargs):\n",
    "    if kwargs.get(\"type\") == \"click\":\n",
    "        loc = kwargs.get(\"coordinates\")\n",
    "        domain_coords.append(loc)\n",
    "        marker = Marker(location=loc)\n",
    "        marker.on_move(partial(handle_move, marker=marker))\n",
    "        marker_locs[marker] = loc\n",
    "        m.add_layer(marker)\n",
    "        _update_domain_render()\n",
    "\n",
    "\n",
    "m.on_interaction(handle_click)\n",
    "\n",
    "\n",
    "def _clear_domain(*args, **kwargs):\n",
    "    global domain_coords\n",
    "    global marker_locs\n",
    "    domain_coords = []\n",
    "    for marker in marker_locs.keys():\n",
    "        m.remove_layer(marker)\n",
    "    marker_locs = {}\n",
    "    _update_domain_render()\n",
    "\n",
    "\n",
    "def _print_domain(*args, **kwargs):\n",
    "    print(domain_coords)\n",
    "\n",
    "\n",
    "button_reset = Button(description=\"reset\")\n",
    "button_reset.on_click(_clear_domain)\n",
    "button_print = Button(description=\"print domain\")\n",
    "button_print.on_click(_print_domain)\n",
    "\n",
    "m.add_control(WidgetControl(widget=button_print, position=\"bottomright\"))\n",
    "m.add_control(WidgetControl(widget=button_reset, position=\"bottomright\"))\n",
    "\n",
    "m"
   ]
  },
  {
   "cell_type": "code",
   "execution_count": 59,
   "metadata": {},
   "outputs": [
    {
     "data": {
      "application/vnd.jupyter.widget-view+json": {
       "model_id": "94812b34e2854bc094dabf14630d4f97",
       "version_major": 2,
       "version_minor": 0
      },
      "text/plain": [
       "Map(basemap={'url': 'https://{s}.tile.openstreetmap.org/{z}/{x}/{y}.png', 'max_zoom': 19, 'attribution': 'Map …"
      ]
     },
     "metadata": {},
     "output_type": "display_data"
    }
   ],
   "source": [
    "from ipyleaflet import Map, basemaps, basemap_to_tiles, Marker, Polygon, WidgetControl\n",
    "from ipywidgets import IntSlider, ColorPicker, Button, link\n",
    "\n",
    "from functools import partial\n",
    "\n",
    "\n",
    "class DomainPicker:\n",
    "    def __init__(self):\n",
    "        self.m = Map(\n",
    "            layers=(\n",
    "                basemap_to_tiles(basemaps.NASAGIBS.ModisTerraTrueColorCR, \"2017-04-08\"),\n",
    "            ),\n",
    "            center=(52.204793, 360.121558),\n",
    "            zoom=2,\n",
    "        )\n",
    "\n",
    "        self.domain_coords = []\n",
    "        self.polygon = None\n",
    "        self.marker_locs = {}\n",
    "\n",
    "        self.m.on_interaction(self._handle_map_click)\n",
    "\n",
    "        button_reset = Button(description=\"reset\")\n",
    "        button_reset.on_click(self._clear_domain)\n",
    "        button_print = Button(description=\"print domain\")\n",
    "        button_print.on_click(self._print_domain)\n",
    "\n",
    "        self.m.add_control(WidgetControl(widget=button_print, position=\"bottomright\"))\n",
    "        self.m.add_control(WidgetControl(widget=button_reset, position=\"bottomright\"))\n",
    "\n",
    "    @classmethod\n",
    "    def create(cls):\n",
    "        return cls().m\n",
    "\n",
    "    def _update_domain_render(self):\n",
    "        if self.polygon is not None:\n",
    "            self.m.remove_layer(self.polygon)\n",
    "\n",
    "        if len(self.domain_coords) > 1:\n",
    "            self.polygon = Polygon(\n",
    "                locations=self.domain_coords, color=\"green\", fill_color=\"green\"\n",
    "            )\n",
    "            self.m.add_layer(self.polygon)\n",
    "        else:\n",
    "            self.polygon = None\n",
    "\n",
    "    def _handle_marker_move(self, marker, location, **kwargs):\n",
    "        old_loc = marker.location\n",
    "        new_loc = location\n",
    "        idx = self.domain_coords.index(old_loc)\n",
    "        self.domain_coords[idx] = new_loc\n",
    "        self._update_domain_render()\n",
    "\n",
    "    def _handle_map_click(self, **kwargs):\n",
    "        if kwargs.get(\"type\") == \"click\":\n",
    "            loc = kwargs.get(\"coordinates\")\n",
    "            marker = Marker(location=loc)\n",
    "            marker.on_move(partial(self._handle_marker_move, marker=marker))\n",
    "            self.domain_coords.append(loc)\n",
    "            self.marker_locs[marker] = loc\n",
    "            self.m.add_layer(marker)\n",
    "            self._update_domain_render()\n",
    "\n",
    "    def _clear_domain(self, *args, **kwargs):\n",
    "        self.domain_coords = []\n",
    "        for marker in self.marker_locs.keys():\n",
    "            self.m.remove_layer(marker)\n",
    "        self.marker_locs = {}\n",
    "        self._update_domain_render()\n",
    "\n",
    "    def _print_domain(self, *args, **kwargs):\n",
    "        print(self.domain_coords)\n",
    "\n",
    "\n",
    "DomainPicker.create()"
   ]
  },
  {
   "cell_type": "code",
   "execution_count": 68,
   "metadata": {},
   "outputs": [],
   "source": [
    "import sys\n",
    "\n",
    "sys.path.append(\"/home/earlcd/git-repos/convml_tt/convml_tt/data/sources/\")"
   ]
  },
  {
   "cell_type": "code",
   "execution_count": 69,
   "metadata": {},
   "outputs": [],
   "source": [
    "import domain_picker_ui"
   ]
  },
  {
   "cell_type": "code",
   "execution_count": 71,
   "metadata": {},
   "outputs": [
    {
     "data": {
      "application/vnd.jupyter.widget-view+json": {
       "model_id": "6993192461724512a676d361679cd91f",
       "version_major": 2,
       "version_minor": 0
      },
      "text/plain": [
       "Map(basemap={'url': 'https://{s}.tile.openstreetmap.org/{z}/{x}/{y}.png', 'max_zoom': 19, 'attribution': 'Map …"
      ]
     },
     "metadata": {},
     "output_type": "display_data"
    },
    {
     "name": "stdout",
     "output_type": "stream",
     "text": [
      "[[-29.61167011519739, 288.43971990584396], [-55.02802211299251, 283.87004325288774], [-54.418929968658254, 249.42171156137132], [-28.998531814051795, 258.9125784559727]]\n"
     ]
    }
   ],
   "source": [
    "domain_picker_ui.DomainPicker(n_days_old_satimg=2).m"
   ]
  },
  {
   "cell_type": "code",
   "execution_count": null,
   "metadata": {},
   "outputs": [],
   "source": []
  }
 ],
 "metadata": {
  "kernelspec": {
   "display_name": "Python 3",
   "language": "python",
   "name": "python3"
  },
  "language_info": {
   "codemirror_mode": {
    "name": "ipython",
    "version": 3
   },
   "file_extension": ".py",
   "mimetype": "text/x-python",
   "name": "python",
   "nbconvert_exporter": "python",
   "pygments_lexer": "ipython3",
   "version": "3.6.8"
  }
 },
 "nbformat": 4,
 "nbformat_minor": 2
}
