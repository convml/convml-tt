{
 "cells": [
  {
   "cell_type": "code",
   "execution_count": 1,
   "metadata": {},
   "outputs": [],
   "source": [
    "import convml_tt\n",
    "import convml_tt.utils\n",
    "from convml_tt.architectures.triplet_trainer import TileType\n",
    "import convml_tt.data.dataset\n",
    "\n",
    "from pathlib import Path\n",
    "import matplotlib.pyplot as plt\n",
    "\n",
    "import xarray as xr\n",
    "import seaborn as sns"
   ]
  },
  {
   "cell_type": "code",
   "execution_count": 2,
   "metadata": {},
   "outputs": [
    {
     "data": {
      "text/plain": [
       "'0.4.0'"
      ]
     },
     "execution_count": 2,
     "metadata": {},
     "output_type": "execute_result"
    }
   ],
   "source": [
    "convml_tt.__version__"
   ]
  },
  {
   "cell_type": "code",
   "execution_count": 3,
   "metadata": {},
   "outputs": [],
   "source": [
    "import shapely.geometry as geom\n",
    "import numpy as np\n",
    "import matplotlib.pyplot as plt\n",
    "import cartopy.crs as ccrs\n",
    "from pathlib import Path\n",
    "import yaml"
   ]
  },
  {
   "cell_type": "code",
   "execution_count": 4,
   "metadata": {},
   "outputs": [
    {
     "name": "stderr",
     "output_type": "stream",
     "text": [
      "/home/earlcd/pytools/convml_tt/data/dataset/__init__.py:48: YAMLLoadWarning: calling yaml.load() without Loader=... is deprecated, as the default Loader is unsafe. Please read https://msg.pyyaml.org/load for full details.\n",
      "  data = yaml.load(fh.read())\n"
     ]
    },
    {
     "data": {
      "text/plain": [
       "{'N_days': 1,\n",
       " 'N_hours_from_zenith': 0.25,\n",
       " 'N_triplets': {'study': 0, 'train': 0},\n",
       " 'channels': [1, 2, 3],\n",
       " 'data_path': PosixPath('/home/earlcd/Desktop/mldev'),\n",
       " 'domain_bbox': [[-60, 10], [-30, 30]],\n",
       " 'name': 'mldev',\n",
       " 't_start': datetime.datetime(2020, 1, 18, 0, 0),\n",
       " 'tile_N': 256,\n",
       " 'tile_size': 200000.0}"
      ]
     },
     "execution_count": 4,
     "metadata": {},
     "output_type": "execute_result"
    }
   ],
   "source": [
    "tt_ds = convml_tt.data.dataset.TripletDataset.load(\"/home/earlcd/Desktop/mldev/\")\n",
    "tt_ds"
   ]
  },
  {
   "cell_type": "code",
   "execution_count": 5,
   "metadata": {
    "scrolled": false
   },
   "outputs": [
    {
     "name": "stderr",
     "output_type": "stream",
     "text": [
      "/home/earlcd/anaconda2/envs/convml_tt/lib/python3.7/site-packages/luigi/parameter.py:283: UserWarning: Parameter \"data_path\" with value \"/home/earlcd/Desktop/mldev\" is not of type string.\n",
      "  warnings.warn('Parameter \"{}\" with value \"{}\" is not of type string.'.format(param_name, param_value))\n",
      "/home/earlcd/pytools/convml_tt/data/sources/satellite/pipeline.py:21: YAMLLoadWarning: calling yaml.load() without Loader=... is deprecated, as the default Loader is unsafe. Please read https://msg.pyyaml.org/load for full details.\n",
      "  return yaml.load(fh)\n",
      "DEBUG: Checking if CreateRGBScene(source_fns=[\"ABI-L1b-RadF/2020/018/13/OR_ABI-L1b-RadF-M6C01_G16_s20200181340195_e20200181349503_c20200181349555.nc\", \"ABI-L1b-RadF/2020/018/13/OR_ABI-L1b-RadF-M6C02_G16_s20200181340195_e20200181349503_c20200181349551.nc\", \"ABI-L1b-RadF/2020/018/13/OR_ABI-L1b-RadF-M6C03_G16_s20200181340195_e20200181349503_c20200181349562.nc\"], domain_bbox=[[-60, 10], [-30, 30]], domain_bbox_pad_frac=0.05, data_path=/home/earlcd/Desktop/mldev) is complete\n",
      "INFO: Informed scheduler that task   CreateRGBScene__home_earlcd_Des____60__10_____30_0_05_663f1bd0ae   has status   PENDING\n",
      "INFO: Done scheduling tasks\n",
      "INFO: Running Worker with 1 processes\n",
      "DEBUG: Asking scheduler for work...\n",
      "DEBUG: Pending tasks: 1\n",
      "INFO: [pid 16760] Worker Worker(salt=153565738, workers=1, host=see-11973.localdomain, username=earlcd, pid=16760) running   CreateRGBScene(source_fns=[\"ABI-L1b-RadF/2020/018/13/OR_ABI-L1b-RadF-M6C01_G16_s20200181340195_e20200181349503_c20200181349555.nc\", \"ABI-L1b-RadF/2020/018/13/OR_ABI-L1b-RadF-M6C02_G16_s20200181340195_e20200181349503_c20200181349551.nc\", \"ABI-L1b-RadF/2020/018/13/OR_ABI-L1b-RadF-M6C03_G16_s20200181340195_e20200181349503_c20200181349562.nc\"], domain_bbox=[[-60, 10], [-30, 30]], domain_bbox_pad_frac=0.05, data_path=/home/earlcd/Desktop/mldev)\n",
      "/home/earlcd/anaconda2/envs/convml_tt/lib/python3.7/site-packages/satpy/readers/yaml_reader.py:92: YAMLLoadWarning: calling yaml.load() without Loader=... is deprecated, as the default Loader is unsafe. Please read https://msg.pyyaml.org/load for full details.\n",
      "  self.config = recursive_dict_update(self.config, yaml.load(fd))\n",
      "ERROR: [pid 16760] Worker Worker(salt=153565738, workers=1, host=see-11973.localdomain, username=earlcd, pid=16760) failed    CreateRGBScene(source_fns=[\"ABI-L1b-RadF/2020/018/13/OR_ABI-L1b-RadF-M6C01_G16_s20200181340195_e20200181349503_c20200181349555.nc\", \"ABI-L1b-RadF/2020/018/13/OR_ABI-L1b-RadF-M6C02_G16_s20200181340195_e20200181349503_c20200181349551.nc\", \"ABI-L1b-RadF/2020/018/13/OR_ABI-L1b-RadF-M6C03_G16_s20200181340195_e20200181349503_c20200181349562.nc\"], domain_bbox=[[-60, 10], [-30, 30]], domain_bbox_pad_frac=0.05, data_path=/home/earlcd/Desktop/mldev)\n",
      "Traceback (most recent call last):\n",
      "  File \"/home/earlcd/anaconda2/envs/convml_tt/lib/python3.7/site-packages/xarray/backends/file_manager.py\", line 198, in _acquire_with_cache_info\n",
      "    file = self._cache[self._key]\n",
      "  File \"/home/earlcd/anaconda2/envs/convml_tt/lib/python3.7/site-packages/xarray/backends/lru_cache.py\", line 53, in __getitem__\n",
      "    value = self._cache[key]\n",
      "KeyError: [<class 'netCDF4._netCDF4.Dataset'>, ('/home/earlcd/Desktop/mldev/ABI-L1b-RadF/2020/018/13/OR_ABI-L1b-RadF-M6C01_G16_s20200181340195_e20200181349503_c20200181349555.nc',), 'r', (('clobber', True), ('diskless', False), ('format', 'NETCDF4'), ('persist', False))]\n",
      "\n",
      "During handling of the above exception, another exception occurred:\n",
      "\n",
      "Traceback (most recent call last):\n",
      "  File \"/home/earlcd/anaconda2/envs/convml_tt/lib/python3.7/site-packages/luigi/worker.py\", line 199, in run\n",
      "    new_deps = self._run_get_new_deps()\n",
      "  File \"/home/earlcd/anaconda2/envs/convml_tt/lib/python3.7/site-packages/luigi/worker.py\", line 141, in _run_get_new_deps\n",
      "    task_gen = self.task.run()\n",
      "  File \"/home/earlcd/pytools/convml_tt/data/sources/satellite/pipeline.py\", line 164, in run\n",
      "    scene_fns=scene_fns\n",
      "  File \"/home/earlcd/pytools/convml_tt/data/sources/satellite/satpy_rgb.py\", line 93, in load_rgb_files_and_get_composite_da\n",
      "    scene = satpy.Scene(reader='abi_l1b', filenames=scene_fns)\n",
      "  File \"/home/earlcd/anaconda2/envs/convml_tt/lib/python3.7/site-packages/satpy/scene.py\", line 156, in __init__\n",
      "    reader_kwargs=reader_kwargs)\n",
      "  File \"/home/earlcd/anaconda2/envs/convml_tt/lib/python3.7/site-packages/satpy/scene.py\", line 201, in create_reader_instances\n",
      "    ppp_config_dir=self.ppp_config_dir)\n",
      "  File \"/home/earlcd/anaconda2/envs/convml_tt/lib/python3.7/site-packages/satpy/readers/__init__.py\", line 752, in load_readers\n",
      "    reader_instance.create_filehandlers(loadables)\n",
      "  File \"/home/earlcd/anaconda2/envs/convml_tt/lib/python3.7/site-packages/satpy/readers/yaml_reader.py\", line 500, in create_filehandlers\n",
      "    filename_set)\n",
      "  File \"/home/earlcd/anaconda2/envs/convml_tt/lib/python3.7/site-packages/satpy/readers/yaml_reader.py\", line 487, in new_filehandlers_for_filetype\n",
      "    return list(filtered_iter)\n",
      "  File \"/home/earlcd/anaconda2/envs/convml_tt/lib/python3.7/site-packages/satpy/readers/yaml_reader.py\", line 460, in filter_fh_by_metadata\n",
      "    for filehandler in filehandlers:\n",
      "  File \"/home/earlcd/anaconda2/envs/convml_tt/lib/python3.7/site-packages/satpy/readers/yaml_reader.py\", line 403, in new_filehandler_instances\n",
      "    yield filetype_cls(filename, filename_info, filetype_info, *req_fh)\n",
      "  File \"/home/earlcd/anaconda2/envs/convml_tt/lib/python3.7/site-packages/satpy/readers/abi_l1b.py\", line 53, in __init__\n",
      "    chunks={'x': CHUNK_SIZE, 'y': CHUNK_SIZE})\n",
      "  File \"/home/earlcd/anaconda2/envs/convml_tt/lib/python3.7/site-packages/xarray/backends/api.py\", line 502, in open_dataset\n",
      "    filename_or_obj, group=group, lock=lock, **backend_kwargs\n",
      "  File \"/home/earlcd/anaconda2/envs/convml_tt/lib/python3.7/site-packages/xarray/backends/netCDF4_.py\", line 358, in open\n",
      "    return cls(manager, group=group, mode=mode, lock=lock, autoclose=autoclose)\n",
      "  File \"/home/earlcd/anaconda2/envs/convml_tt/lib/python3.7/site-packages/xarray/backends/netCDF4_.py\", line 314, in __init__\n",
      "    self.format = self.ds.data_model\n",
      "  File \"/home/earlcd/anaconda2/envs/convml_tt/lib/python3.7/site-packages/xarray/backends/netCDF4_.py\", line 367, in ds\n",
      "    return self._acquire()\n",
      "  File \"/home/earlcd/anaconda2/envs/convml_tt/lib/python3.7/site-packages/xarray/backends/netCDF4_.py\", line 361, in _acquire\n",
      "    with self._manager.acquire_context(needs_lock) as root:\n",
      "  File \"/home/earlcd/anaconda2/envs/convml_tt/lib/python3.7/contextlib.py\", line 112, in __enter__\n",
      "    return next(self.gen)\n",
      "  File \"/home/earlcd/anaconda2/envs/convml_tt/lib/python3.7/site-packages/xarray/backends/file_manager.py\", line 186, in acquire_context\n",
      "    file, cached = self._acquire_with_cache_info(needs_lock)\n",
      "  File \"/home/earlcd/anaconda2/envs/convml_tt/lib/python3.7/site-packages/xarray/backends/file_manager.py\", line 204, in _acquire_with_cache_info\n",
      "    file = self._opener(*self._args, **kwargs)\n",
      "  File \"netCDF4/_netCDF4.pyx\", line 2135, in netCDF4._netCDF4.Dataset.__init__\n",
      "  File \"netCDF4/_netCDF4.pyx\", line 1752, in netCDF4._netCDF4._ensure_nc_success\n",
      "FileNotFoundError: [Errno 2] No such file or directory: b'/home/earlcd/Desktop/mldev/ABI-L1b-RadF/2020/018/13/OR_ABI-L1b-RadF-M6C01_G16_s20200181340195_e20200181349503_c20200181349555.nc'\n",
      "DEBUG: 1 running tasks, waiting for next task to finish\n",
      "INFO: Informed scheduler that task   CreateRGBScene__home_earlcd_Des____60__10_____30_0_05_663f1bd0ae   has status   FAILED\n",
      "DEBUG: Asking scheduler for work...\n",
      "DEBUG: Done\n",
      "DEBUG: There are no more tasks to run at this time\n",
      "DEBUG: There are 1 pending tasks possibly being run by other workers\n",
      "DEBUG: There are 1 pending tasks unique to this worker\n",
      "DEBUG: There are 1 pending tasks last scheduled by this worker\n",
      "INFO: Worker Worker(salt=153565738, workers=1, host=see-11973.localdomain, username=earlcd, pid=16760) was stopped. Shutting down Keep-Alive thread\n",
      "INFO: \n",
      "===== Luigi Execution Summary =====\n",
      "\n",
      "Scheduled 1 tasks of which:\n",
      "* 1 failed:\n",
      "    - 1 CreateRGBScene(...)\n",
      "\n",
      "This progress looks :( because there were failed tasks\n",
      "\n",
      "===== Luigi Execution Summary =====\n",
      "\n"
     ]
    },
    {
     "ename": "Exception",
     "evalue": "Task didn't complete",
     "output_type": "error",
     "traceback": [
      "\u001b[0;31m---------------------------------------------------------------------------\u001b[0m",
      "\u001b[0;31mException\u001b[0m                                 Traceback (most recent call last)",
      "\u001b[0;32m<ipython-input-5-8c9ef045d450>\u001b[0m in \u001b[0;36m<module>\u001b[0;34m\u001b[0m\n\u001b[0;32m----> 1\u001b[0;31m \u001b[0mtt_ds\u001b[0m\u001b[0;34m.\u001b[0m\u001b[0mget_dataset_scene\u001b[0m\u001b[0;34m(\u001b[0m\u001b[0mscene_num\u001b[0m\u001b[0;34m=\u001b[0m\u001b[0;36m0\u001b[0m\u001b[0;34m,\u001b[0m\u001b[0;34m)\u001b[0m\u001b[0;34m\u001b[0m\u001b[0;34m\u001b[0m\u001b[0m\n\u001b[0m",
      "\u001b[0;32m~/pytools/convml_tt/data/sources/satellite/__init__.py\u001b[0m in \u001b[0;36mget_dataset_scene\u001b[0;34m(self, scene_num, for_training)\u001b[0m\n\u001b[1;32m     68\u001b[0m             \u001b[0mdata_path\u001b[0m\u001b[0;34m=\u001b[0m\u001b[0mself\u001b[0m\u001b[0;34m.\u001b[0m\u001b[0mdata_path\u001b[0m\u001b[0;34m,\u001b[0m\u001b[0;34m\u001b[0m\u001b[0;34m\u001b[0m\u001b[0m\n\u001b[1;32m     69\u001b[0m         )\n\u001b[0;32m---> 70\u001b[0;31m         \u001b[0m_ensure_task_run\u001b[0m\u001b[0;34m(\u001b[0m\u001b[0mt\u001b[0m\u001b[0;34m)\u001b[0m\u001b[0;34m\u001b[0m\u001b[0;34m\u001b[0m\u001b[0m\n\u001b[0m\u001b[1;32m     71\u001b[0m         \u001b[0;32mreturn\u001b[0m \u001b[0mt\u001b[0m\u001b[0;34m.\u001b[0m\u001b[0moutput\u001b[0m\u001b[0;34m(\u001b[0m\u001b[0;34m)\u001b[0m\u001b[0;34m.\u001b[0m\u001b[0mopen\u001b[0m\u001b[0;34m(\u001b[0m\u001b[0;34m)\u001b[0m\u001b[0;34m\u001b[0m\u001b[0;34m\u001b[0m\u001b[0m\n\u001b[1;32m     72\u001b[0m \u001b[0;34m\u001b[0m\u001b[0m\n",
      "\u001b[0;32m~/pytools/convml_tt/data/sources/satellite/__init__.py\u001b[0m in \u001b[0;36m_ensure_task_run\u001b[0;34m(t)\u001b[0m\n\u001b[1;32m     14\u001b[0m         \u001b[0mluigi\u001b[0m\u001b[0;34m.\u001b[0m\u001b[0mbuild\u001b[0m\u001b[0;34m(\u001b[0m\u001b[0;34m[\u001b[0m\u001b[0mt\u001b[0m\u001b[0;34m,\u001b[0m \u001b[0;34m]\u001b[0m\u001b[0;34m,\u001b[0m \u001b[0mlocal_scheduler\u001b[0m\u001b[0;34m=\u001b[0m\u001b[0;32mTrue\u001b[0m\u001b[0;34m)\u001b[0m\u001b[0;34m\u001b[0m\u001b[0;34m\u001b[0m\u001b[0m\n\u001b[1;32m     15\u001b[0m     \u001b[0;32mif\u001b[0m \u001b[0;32mnot\u001b[0m \u001b[0mt\u001b[0m\u001b[0;34m.\u001b[0m\u001b[0moutput\u001b[0m\u001b[0;34m(\u001b[0m\u001b[0;34m)\u001b[0m\u001b[0;34m.\u001b[0m\u001b[0mexists\u001b[0m\u001b[0;34m(\u001b[0m\u001b[0;34m)\u001b[0m\u001b[0;34m:\u001b[0m\u001b[0;34m\u001b[0m\u001b[0;34m\u001b[0m\u001b[0m\n\u001b[0;32m---> 16\u001b[0;31m         \u001b[0;32mraise\u001b[0m \u001b[0mException\u001b[0m\u001b[0;34m(\u001b[0m\u001b[0;34m\"Task didn't complete\"\u001b[0m\u001b[0;34m)\u001b[0m\u001b[0;34m\u001b[0m\u001b[0;34m\u001b[0m\u001b[0m\n\u001b[0m\u001b[1;32m     17\u001b[0m \u001b[0;34m\u001b[0m\u001b[0m\n\u001b[1;32m     18\u001b[0m \u001b[0;32mclass\u001b[0m \u001b[0mSatelliteTripletDataset\u001b[0m\u001b[0;34m(\u001b[0m\u001b[0mTripletDataset\u001b[0m\u001b[0;34m)\u001b[0m\u001b[0;34m:\u001b[0m\u001b[0;34m\u001b[0m\u001b[0;34m\u001b[0m\u001b[0m\n",
      "\u001b[0;31mException\u001b[0m: Task didn't complete"
     ]
    }
   ],
   "source": [
    "tt_ds.get_dataset_scene(\n",
    "    scene_num=0,\n",
    ")"
   ]
  },
  {
   "cell_type": "code",
   "execution_count": null,
   "metadata": {},
   "outputs": [],
   "source": []
  },
  {
   "cell_type": "code",
   "execution_count": null,
   "metadata": {},
   "outputs": [],
   "source": [
    "# from convective_organisation.data.processing import goes16_oldcomp_500\n",
    "# from convective_organisation.data.sources.satdata.bbox import LatLonBox\n",
    "# from convective_organisation.data.sources.satdata import processing\n",
    "# from convective_organisation.data.sources import satdata"
   ]
  },
  {
   "cell_type": "code",
   "execution_count": null,
   "metadata": {},
   "outputs": [],
   "source": [
    "data_path = Path(\"../../data/storage\")"
   ]
  },
  {
   "cell_type": "code",
   "execution_count": null,
   "metadata": {},
   "outputs": [],
   "source": [
    "tileset_path = data_path / \"tiles\" / \"goes16\" / \"Nx256_s200000.0_N1000study_N10000train\"\n",
    "tile_path = tileset_path / \"train\""
   ]
  },
  {
   "cell_type": "code",
   "execution_count": null,
   "metadata": {},
   "outputs": [],
   "source": [
    "triplets = convml_tt.NPMultiImageList.from_folder(tile_path)"
   ]
  },
  {
   "cell_type": "code",
   "execution_count": null,
   "metadata": {},
   "outputs": [],
   "source": [
    "####\n",
    "m = 194\n",
    "triplets[m][0].show(), triplets[m][1].show(), triplets[m][2].show()"
   ]
  },
  {
   "cell_type": "code",
   "execution_count": null,
   "metadata": {},
   "outputs": [],
   "source": [
    "import convml_tt.interpretation.tile_aggregation"
   ]
  },
  {
   "cell_type": "code",
   "execution_count": null,
   "metadata": {},
   "outputs": [],
   "source": [
    "tiles = list(\n",
    "    zip(\n",
    "        *[\n",
    "            load_tile_definitions(triplets[m : m + 1], tile_type=tile_type)\n",
    "            for tile_type in [TileType.ANCHOR, TileType.NEIGHBOR, TileType.DISTANT]\n",
    "        ]\n",
    "    )\n",
    ")[0]"
   ]
  },
  {
   "cell_type": "code",
   "execution_count": null,
   "metadata": {},
   "outputs": [],
   "source": [
    "tiles"
   ]
  },
  {
   "cell_type": "code",
   "execution_count": null,
   "metadata": {},
   "outputs": [],
   "source": [
    "tile_a, tile_n, tile_d = tiles\n",
    "\n",
    "tile_a, tile_n = tile_n, tile_a"
   ]
  },
  {
   "cell_type": "code",
   "execution_count": null,
   "metadata": {},
   "outputs": [],
   "source": [
    "scene_fns = tile_a.meta[\"rgb_source_files\"]"
   ]
  },
  {
   "cell_type": "code",
   "execution_count": null,
   "metadata": {},
   "outputs": [],
   "source": [
    "TILING_BBOX_EXTENT = [(-60, 10), (-30, 30)]  # (lon, lat) min  # (lon, lat) max"
   ]
  },
  {
   "cell_type": "code",
   "execution_count": null,
   "metadata": {
    "scrolled": false
   },
   "outputs": [],
   "source": [
    "cli = satdata.Goes16AWS()\n",
    "path_composites = data_path / \"composites\"\n",
    "da_rgb_composite = satdata.processing.load_data_for_rgb(\n",
    "    [\n",
    "        scene_fns,\n",
    "    ],\n",
    "    cli=cli,\n",
    "    path_composites=path_composites,\n",
    "    bbox_extent=TILING_BBOX_EXTENT,\n",
    "    use_old=False,\n",
    ")[0]"
   ]
  },
  {
   "cell_type": "code",
   "execution_count": null,
   "metadata": {},
   "outputs": [],
   "source": [
    "scene_fns = tile_d.meta[\"rgb_source_files\"]\n",
    "\n",
    "da_rgb_composite_dist = satdata.processing.load_data_for_rgb(\n",
    "    [\n",
    "        scene_fns,\n",
    "    ],\n",
    "    cli=cli,\n",
    "    path_composites=path_composites,\n",
    "    bbox_extent=TILING_BBOX_EXTENT,\n",
    "    use_old=False,\n",
    ")[0]"
   ]
  },
  {
   "cell_type": "code",
   "execution_count": null,
   "metadata": {},
   "outputs": [],
   "source": [
    "from convml_tt.data.sources.satdata.bbox import LatLonBox\n",
    "from convml_tt.data.sources.satdata.satpy_rgb import rgb_da_to_img\n",
    "\n",
    "tiling_bbox = LatLonBox(TILING_BBOX_EXTENT)"
   ]
  },
  {
   "cell_type": "code",
   "execution_count": null,
   "metadata": {},
   "outputs": [],
   "source": [
    "bbox_shape = tiling_bbox.get_outline_shape()\n",
    "\n",
    "s = 5\n",
    "img_rgb = rgb_da_to_img(\n",
    "    da_rgb_composite.isel(x=slice(None, None, s), y=slice(None, None, s))\n",
    ")"
   ]
  },
  {
   "cell_type": "code",
   "execution_count": null,
   "metadata": {},
   "outputs": [],
   "source": [
    "fig = plt.figure(figsize=(8, 6))\n",
    "# projection = ccrs.Geostationary(central_longitude=-60) # too costly when we're showing the composite\n",
    "projection = da_rgb_composite.crs\n",
    "ax = plt.subplot(projection=projection)\n",
    "\n",
    "# da_rgb_composite.sel(bands='R').isel(x=slice(None, None, 100), y=slice(None, None, 100)).plot(\n",
    "# ax=ax, transform=da_rgb_composite.crs, rasterized=True\n",
    "# )\n",
    "# da_rgb_composite.sel(bands='R').plot(ax=ax, transform=da_rgb_composite.crs, rasterized=True)\n",
    "\n",
    "img_rgb.data.plot.imshow(\n",
    "    ax=ax, transform=da_rgb_composite.crs, rasterized=True, rgb=\"bands\"\n",
    ")\n",
    "\n",
    "gl = ax.gridlines(linestyle=\"--\", draw_labels=False)\n",
    "ax.coastlines(resolution=\"10m\", color=\"grey\")\n",
    "\n",
    "\n",
    "def draw_box(geom, color, face_alpha=0.5):\n",
    "\n",
    "    ax.add_geometries(\n",
    "        [\n",
    "            geom,\n",
    "        ],\n",
    "        crs=ccrs.PlateCarree(),\n",
    "        alpha=face_alpha,\n",
    "        edgecolor=color,\n",
    "        facecolor=color,\n",
    "    )\n",
    "    ax.add_geometries(\n",
    "        [\n",
    "            geom,\n",
    "        ],\n",
    "        crs=ccrs.PlateCarree(),\n",
    "        alpha=face_alpha * 2.0,\n",
    "        edgecolor=color,\n",
    "        facecolor=\"none\",\n",
    "        linewidth=1.0,\n",
    "    )\n",
    "\n",
    "\n",
    "draw_box(bbox_shape, color=\"red\", face_alpha=0.2)\n",
    "draw_box(tile_a.get_outline_shape(), color=\"green\")\n",
    "draw_box(tile_n.get_outline_shape(), color=\"blue\")\n",
    "\n",
    "ax.set_extent([-70, -10, 5, 35], crs=ccrs.PlateCarree())  # [x0, x1, y0, y1]\n",
    "\n",
    "plt.savefig(\"domain_overview_triplets.pdf\")"
   ]
  },
  {
   "cell_type": "code",
   "execution_count": null,
   "metadata": {},
   "outputs": [],
   "source": [
    "rgb_tile_a = tile_a.crop_field(da_rgb_composite)"
   ]
  },
  {
   "cell_type": "code",
   "execution_count": null,
   "metadata": {},
   "outputs": [],
   "source": [
    "tile_a.create_true_color_img(da_rgb_composite, resampling_N=256)"
   ]
  },
  {
   "cell_type": "code",
   "execution_count": null,
   "metadata": {},
   "outputs": [],
   "source": [
    "tile_n.create_true_color_img(da_rgb_composite, resampling_N=256)"
   ]
  },
  {
   "cell_type": "code",
   "execution_count": null,
   "metadata": {},
   "outputs": [],
   "source": [
    "tile_d.create_true_color_img(da_rgb_composite_dist, resampling_N=256)"
   ]
  },
  {
   "cell_type": "code",
   "execution_count": null,
   "metadata": {},
   "outputs": [],
   "source": []
  }
 ],
 "metadata": {
  "kernelspec": {
   "display_name": "Python 3",
   "language": "python",
   "name": "python3"
  },
  "language_info": {
   "codemirror_mode": {
    "name": "ipython",
    "version": 3
   },
   "file_extension": ".py",
   "mimetype": "text/x-python",
   "name": "python",
   "nbconvert_exporter": "python",
   "pygments_lexer": "ipython3",
   "version": "3.7.6"
  }
 },
 "nbformat": 4,
 "nbformat_minor": 2
}
